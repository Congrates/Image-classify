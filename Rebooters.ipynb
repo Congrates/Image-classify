{
 "cells": [
  {
   "cell_type": "code",
   "execution_count": 1,
   "id": "49fe2a4d",
   "metadata": {
    "execution": {
     "iopub.execute_input": "2024-08-07T16:34:30.746120Z",
     "iopub.status.busy": "2024-08-07T16:34:30.745358Z",
     "iopub.status.idle": "2024-08-07T16:34:44.014669Z",
     "shell.execute_reply": "2024-08-07T16:34:44.013586Z"
    },
    "papermill": {
     "duration": 13.279214,
     "end_time": "2024-08-07T16:34:44.017095",
     "exception": false,
     "start_time": "2024-08-07T16:34:30.737881",
     "status": "completed"
    },
    "tags": []
   },
   "outputs": [
    {
     "name": "stdout",
     "output_type": "stream",
     "text": [
      "Collecting torch-summary\r\n",
      "  Downloading torch_summary-1.4.5-py3-none-any.whl.metadata (18 kB)\r\n",
      "Downloading torch_summary-1.4.5-py3-none-any.whl (16 kB)\r\n",
      "Installing collected packages: torch-summary\r\n",
      "Successfully installed torch-summary-1.4.5\r\n"
     ]
    }
   ],
   "source": [
    "# !pip install torch-summary"
   ]
  },
  {
   "cell_type": "code",
   "execution_count": 2,
   "id": "31143118",
   "metadata": {
    "_cell_guid": "b1076dfc-b9ad-4769-8c92-a6c4dae69d19",
    "_uuid": "8f2839f25d086af736a60e9eeb907d3b93b6e0e5",
    "execution": {
     "iopub.execute_input": "2024-08-07T16:34:44.031417Z",
     "iopub.status.busy": "2024-08-07T16:34:44.031105Z",
     "iopub.status.idle": "2024-08-07T16:34:49.041631Z",
     "shell.execute_reply": "2024-08-07T16:34:49.040735Z"
    },
    "papermill": {
     "duration": 5.020475,
     "end_time": "2024-08-07T16:34:49.044065",
     "exception": false,
     "start_time": "2024-08-07T16:34:44.023590",
     "status": "completed"
    },
    "tags": []
   },
   "outputs": [],
   "source": [
    "import os\n",
    "import torch\n",
    "import torchvision\n",
    "from torchsummary import summary\n",
    "import tarfile\n",
    "import torch.nn as nn\n",
    "import numpy as np\n",
    "from torchvision import transforms\n",
    "from torchvision import datasets\n",
    "from tqdm import tqdm\n",
    "import torch.nn.functional as F\n",
    "from torchvision.datasets.utils import download_url\n",
    "from torchvision.datasets import ImageFolder\n",
    "from torch.utils.data import DataLoader\n",
    "import torchvision.transforms as tt\n",
    "from torch.utils.data import random_split\n",
    "from torchvision.utils import make_grid\n",
    "from torch.utils.data import ConcatDataset\n",
    "from torch.cuda.amp import autocast\n",
    "import matplotlib\n",
    "import matplotlib.pyplot as plt\n",
    "%matplotlib inline\n",
    "\n",
    "matplotlib.rcParams['figure.facecolor'] = '#ffffff'"
   ]
  },
  {
   "cell_type": "code",
   "execution_count": 3,
   "id": "84192de6",
   "metadata": {
    "execution": {
     "iopub.execute_input": "2024-08-07T16:34:49.058421Z",
     "iopub.status.busy": "2024-08-07T16:34:49.058037Z",
     "iopub.status.idle": "2024-08-07T16:34:55.978757Z",
     "shell.execute_reply": "2024-08-07T16:34:55.977655Z"
    },
    "papermill": {
     "duration": 6.930816,
     "end_time": "2024-08-07T16:34:55.981433",
     "exception": false,
     "start_time": "2024-08-07T16:34:49.050617",
     "status": "completed"
    },
    "tags": []
   },
   "outputs": [],
   "source": [
    "transforms_func = transforms.Compose([\n",
    "    transforms.ToTensor(),\n",
    "    transforms.Normalize(mean=[0.485, 0.456, 0.406],std=[0.229, 0.224, 0.225])\n",
    "])\n",
    "train_datasets = datasets.ImageFolder(\n",
    "    '/kaggle/input/25-classes-classificatin/Seen/bird dataset/train',\n",
    "    transform=transforms_func\n",
    ")\n",
    "val_datasets = datasets.ImageFolder(\n",
    "    '/kaggle/input/25-classes-classificatin/Seen/bird dataset/val',\n",
    "    transform=transforms_func\n",
    ")"
   ]
  },
  {
   "cell_type": "code",
   "execution_count": 4,
   "id": "8a4ac494",
   "metadata": {
    "execution": {
     "iopub.execute_input": "2024-08-07T16:34:55.997695Z",
     "iopub.status.busy": "2024-08-07T16:34:55.996942Z",
     "iopub.status.idle": "2024-08-07T16:34:56.002317Z",
     "shell.execute_reply": "2024-08-07T16:34:56.001415Z"
    },
    "papermill": {
     "duration": 0.015453,
     "end_time": "2024-08-07T16:34:56.004409",
     "exception": false,
     "start_time": "2024-08-07T16:34:55.988956",
     "status": "completed"
    },
    "tags": []
   },
   "outputs": [],
   "source": [
    "batch_size = 32\n",
    "train_dataloader = DataLoader(train_datasets, batch_size=batch_size,num_workers=4,shuffle=True)\n",
    "val_dataloader = DataLoader(val_datasets, batch_size=batch_size,num_workers=4,shuffle=False)"
   ]
  },
  {
   "cell_type": "code",
   "execution_count": 5,
   "id": "29073d83",
   "metadata": {
    "execution": {
     "iopub.execute_input": "2024-08-07T16:34:56.019634Z",
     "iopub.status.busy": "2024-08-07T16:34:56.018925Z",
     "iopub.status.idle": "2024-08-07T16:34:56.027875Z",
     "shell.execute_reply": "2024-08-07T16:34:56.027046Z"
    },
    "papermill": {
     "duration": 0.018655,
     "end_time": "2024-08-07T16:34:56.029772",
     "exception": false,
     "start_time": "2024-08-07T16:34:56.011117",
     "status": "completed"
    },
    "tags": []
   },
   "outputs": [],
   "source": [
    "def get_default_device():\n",
    "    \"\"\"Pick GPU if available, else CPU\"\"\"\n",
    "    if torch.cuda.is_available():\n",
    "        return torch.device('cuda')\n",
    "    else:\n",
    "        return torch.device('cpu')\n",
    "    \n",
    "def to_device(data, device):\n",
    "    \"\"\"Move tensor(s) to chosen device\"\"\"\n",
    "    if isinstance(data, (list,tuple)):\n",
    "        return [to_device(x, device) for x in data]\n",
    "    return data.to(device, non_blocking=True)\n",
    "\n",
    "class DeviceDataLoader():\n",
    "    \"\"\"Wrap a dataloader to move data to a device\"\"\"\n",
    "    def __init__(self, dl, device):\n",
    "        self.dl = dl\n",
    "        self.device = device\n",
    "        \n",
    "    def __iter__(self):\n",
    "        \"\"\"Yield a batch of data after moving it to device\"\"\"\n",
    "        for b in self.dl: \n",
    "            yield to_device(b, self.device)\n",
    "\n",
    "    def __len__(self):\n",
    "        \"\"\"Number of batches\"\"\"\n",
    "        return len(self.dl)"
   ]
  },
  {
   "cell_type": "code",
   "execution_count": 6,
   "id": "1c1d5943",
   "metadata": {
    "execution": {
     "iopub.execute_input": "2024-08-07T16:34:56.044380Z",
     "iopub.status.busy": "2024-08-07T16:34:56.044108Z",
     "iopub.status.idle": "2024-08-07T16:34:56.109474Z",
     "shell.execute_reply": "2024-08-07T16:34:56.108647Z"
    },
    "papermill": {
     "duration": 0.075006,
     "end_time": "2024-08-07T16:34:56.111531",
     "exception": false,
     "start_time": "2024-08-07T16:34:56.036525",
     "status": "completed"
    },
    "tags": []
   },
   "outputs": [
    {
     "data": {
      "text/plain": [
       "device(type='cuda')"
      ]
     },
     "execution_count": 6,
     "metadata": {},
     "output_type": "execute_result"
    }
   ],
   "source": [
    "device = get_default_device()\n",
    "device"
   ]
  },
  {
   "cell_type": "code",
   "execution_count": 7,
   "id": "5902ebbf",
   "metadata": {
    "execution": {
     "iopub.execute_input": "2024-08-07T16:34:56.125097Z",
     "iopub.status.busy": "2024-08-07T16:34:56.124848Z",
     "iopub.status.idle": "2024-08-07T16:34:56.128676Z",
     "shell.execute_reply": "2024-08-07T16:34:56.127914Z"
    },
    "papermill": {
     "duration": 0.012594,
     "end_time": "2024-08-07T16:34:56.130482",
     "exception": false,
     "start_time": "2024-08-07T16:34:56.117888",
     "status": "completed"
    },
    "tags": []
   },
   "outputs": [],
   "source": [
    "train_dl = DeviceDataLoader(train_dataloader, device)\n",
    "valid_dl = DeviceDataLoader(val_dataloader, device)"
   ]
  },
  {
   "cell_type": "code",
   "execution_count": 8,
   "id": "3fe3e476",
   "metadata": {
    "execution": {
     "iopub.execute_input": "2024-08-07T16:34:56.144363Z",
     "iopub.status.busy": "2024-08-07T16:34:56.143773Z",
     "iopub.status.idle": "2024-08-07T16:34:56.153511Z",
     "shell.execute_reply": "2024-08-07T16:34:56.152729Z"
    },
    "papermill": {
     "duration": 0.018676,
     "end_time": "2024-08-07T16:34:56.155440",
     "exception": false,
     "start_time": "2024-08-07T16:34:56.136764",
     "status": "completed"
    },
    "tags": []
   },
   "outputs": [],
   "source": [
    "def accuracy(outputs, labels):\n",
    "    _, preds = torch.max(outputs, dim=1)\n",
    "    return torch.tensor(torch.sum(preds == labels).item() / len(preds))\n",
    "\n",
    "class Evaluation(nn.Module):\n",
    "    def training_step(self, batch):\n",
    "        images, labels = batch \n",
    "        out = self(images)                  # Generate predictions\n",
    "        loss = F.cross_entropy(out, labels) # Calculate loss\n",
    "        acc = accuracy(out,labels)          # Calculate accuracy\n",
    "        return loss,acc\n",
    "    \n",
    "    def validation_step(self, batch):\n",
    "        images, labels = batch \n",
    "        out = self(images)                    # Generate predictions\n",
    "        loss = F.cross_entropy(out, labels)   # Calculate loss\n",
    "        acc = accuracy(out, labels)           # Calculate accuracy\n",
    "        return {'val_loss': loss.detach(), 'val_acc': acc}\n",
    "        \n",
    "    def validation_epoch_end(self, outputs):\n",
    "        batch_losses = [x['val_loss'] for x in outputs]\n",
    "        epoch_loss = torch.stack(batch_losses).mean()   # Combine losses\n",
    "        batch_accs = [x['val_acc'] for x in outputs]\n",
    "        epoch_acc = torch.stack(batch_accs).mean()      # Combine accuracies\n",
    "        return {'val_loss': epoch_loss.item(), 'val_acc': epoch_acc.item()}\n",
    "    \n",
    "    def epoch_end(self, epoch, result):\n",
    "        print(\"Epoch [{}], train_loss: {:.4f},train_acc: {:.4f}, val_loss: {:.4f}, val_acc: {:.4f}\".format(\n",
    "            epoch, result['train_loss'],result['train_acc'], result['val_loss'], result['val_acc']))"
   ]
  },
  {
   "cell_type": "code",
   "execution_count": 9,
   "id": "8fc1e265",
   "metadata": {
    "execution": {
     "iopub.execute_input": "2024-08-07T16:34:56.169050Z",
     "iopub.status.busy": "2024-08-07T16:34:56.168354Z",
     "iopub.status.idle": "2024-08-07T16:34:56.184377Z",
     "shell.execute_reply": "2024-08-07T16:34:56.183586Z"
    },
    "papermill": {
     "duration": 0.024634,
     "end_time": "2024-08-07T16:34:56.186144",
     "exception": false,
     "start_time": "2024-08-07T16:34:56.161510",
     "status": "completed"
    },
    "tags": []
   },
   "outputs": [],
   "source": [
    "class BasicBlock(nn.Module):\n",
    "    expansion = 1\n",
    "\n",
    "    def __init__(self, in_planes, planes, stride=1):\n",
    "        super(BasicBlock, self).__init__()\n",
    "        self.conv1 = nn.Conv2d(in_planes, planes, kernel_size=3, stride=stride, padding=1, bias=False)\n",
    "        self.bn1 = nn.BatchNorm2d(planes)\n",
    "        self.conv2 = nn.Conv2d(planes, planes, kernel_size=3, stride=1, padding=1, bias=False)\n",
    "        self.bn2 = nn.BatchNorm2d(planes)\n",
    "\n",
    "        self.shortcut = nn.Sequential()\n",
    "        if stride != 1 or in_planes != self.expansion * planes:\n",
    "            self.shortcut = nn.Sequential(\n",
    "                nn.Conv2d(in_planes, self.expansion * planes, kernel_size=1, stride=stride, bias=False),\n",
    "                nn.BatchNorm2d(self.expansion * planes)\n",
    "            )\n",
    "\n",
    "    def forward(self, x):\n",
    "        out = torch.relu(self.bn1(self.conv1(x)))\n",
    "        out = self.bn2(self.conv2(out))\n",
    "        out += self.shortcut(x)\n",
    "        out = torch.relu(out)\n",
    "        return out\n",
    "\n",
    "class CustomModel(Evaluation):\n",
    "    def __init__(self, block, num_blocks, num_classes=25):\n",
    "        super(CustomModel, self).__init__()\n",
    "        self.in_planes = 64\n",
    "\n",
    "        self.conv1 = nn.Conv2d(3, 64, kernel_size=7, stride=2, padding=3, bias=False)\n",
    "        self.bn1 = nn.BatchNorm2d(64)\n",
    "        self.layer1 = self._make_layer(block, 64, num_blocks[0], stride=1)\n",
    "        self.layer2 = self._make_layer(block, 128, num_blocks[1], stride=2)\n",
    "        self.layer3 = self._make_layer(block, 256, num_blocks[2], stride=2)\n",
    "        self.layer4 = self._make_layer(block, 512, num_blocks[3], stride=2)\n",
    "        self.linear = nn.Linear(512 * block.expansion, num_classes)\n",
    "\n",
    "    def _make_layer(self, block, planes, num_blocks, stride):\n",
    "        strides = [stride] + [1] * (num_blocks - 1)\n",
    "        layers = []\n",
    "        for stride in strides:\n",
    "            layers.append(block(self.in_planes, planes, stride))\n",
    "            self.in_planes = planes * block.expansion\n",
    "        return nn.Sequential(*layers)\n",
    "\n",
    "    def forward(self, x):\n",
    "        out = torch.relu(self.bn1(self.conv1(x)))\n",
    "        out = nn.MaxPool2d(kernel_size=3, stride=2, padding=1)(out)\n",
    "        out = self.layer1(out)\n",
    "        out = self.layer2(out)\n",
    "        out = self.layer3(out)\n",
    "        out = self.layer4(out)\n",
    "        out = nn.AdaptiveAvgPool2d((1, 1))(out)\n",
    "        out = torch.flatten(out, 1)\n",
    "        out = self.linear(out)\n",
    "        return out"
   ]
  },
  {
   "cell_type": "code",
   "execution_count": 10,
   "id": "4c6649b0",
   "metadata": {
    "execution": {
     "iopub.execute_input": "2024-08-07T16:34:56.199387Z",
     "iopub.status.busy": "2024-08-07T16:34:56.199129Z",
     "iopub.status.idle": "2024-08-07T16:34:56.534437Z",
     "shell.execute_reply": "2024-08-07T16:34:56.533270Z"
    },
    "papermill": {
     "duration": 0.344272,
     "end_time": "2024-08-07T16:34:56.536500",
     "exception": false,
     "start_time": "2024-08-07T16:34:56.192228",
     "status": "completed"
    },
    "tags": []
   },
   "outputs": [
    {
     "name": "stdout",
     "output_type": "stream",
     "text": [
      "=================================================================\n",
      "Layer (type:depth-idx)                   Param #\n",
      "=================================================================\n",
      "├─Conv2d: 1-1                            9,408\n",
      "├─BatchNorm2d: 1-2                       128\n",
      "├─Sequential: 1-3                        --\n",
      "|    └─BasicBlock: 2-1                   --\n",
      "|    |    └─Conv2d: 3-1                  36,864\n",
      "|    |    └─BatchNorm2d: 3-2             128\n",
      "|    |    └─Conv2d: 3-3                  36,864\n",
      "|    |    └─BatchNorm2d: 3-4             128\n",
      "|    |    └─Sequential: 3-5              --\n",
      "|    └─BasicBlock: 2-2                   --\n",
      "|    |    └─Conv2d: 3-6                  36,864\n",
      "|    |    └─BatchNorm2d: 3-7             128\n",
      "|    |    └─Conv2d: 3-8                  36,864\n",
      "|    |    └─BatchNorm2d: 3-9             128\n",
      "|    |    └─Sequential: 3-10             --\n",
      "├─Sequential: 1-4                        --\n",
      "|    └─BasicBlock: 2-3                   --\n",
      "|    |    └─Conv2d: 3-11                 73,728\n",
      "|    |    └─BatchNorm2d: 3-12            256\n",
      "|    |    └─Conv2d: 3-13                 147,456\n",
      "|    |    └─BatchNorm2d: 3-14            256\n",
      "|    |    └─Sequential: 3-15             8,448\n",
      "|    └─BasicBlock: 2-4                   --\n",
      "|    |    └─Conv2d: 3-16                 147,456\n",
      "|    |    └─BatchNorm2d: 3-17            256\n",
      "|    |    └─Conv2d: 3-18                 147,456\n",
      "|    |    └─BatchNorm2d: 3-19            256\n",
      "|    |    └─Sequential: 3-20             --\n",
      "├─Sequential: 1-5                        --\n",
      "|    └─BasicBlock: 2-5                   --\n",
      "|    |    └─Conv2d: 3-21                 294,912\n",
      "|    |    └─BatchNorm2d: 3-22            512\n",
      "|    |    └─Conv2d: 3-23                 589,824\n",
      "|    |    └─BatchNorm2d: 3-24            512\n",
      "|    |    └─Sequential: 3-25             33,280\n",
      "|    └─BasicBlock: 2-6                   --\n",
      "|    |    └─Conv2d: 3-26                 589,824\n",
      "|    |    └─BatchNorm2d: 3-27            512\n",
      "|    |    └─Conv2d: 3-28                 589,824\n",
      "|    |    └─BatchNorm2d: 3-29            512\n",
      "|    |    └─Sequential: 3-30             --\n",
      "├─Sequential: 1-6                        --\n",
      "|    └─BasicBlock: 2-7                   --\n",
      "|    |    └─Conv2d: 3-31                 1,179,648\n",
      "|    |    └─BatchNorm2d: 3-32            1,024\n",
      "|    |    └─Conv2d: 3-33                 2,359,296\n",
      "|    |    └─BatchNorm2d: 3-34            1,024\n",
      "|    |    └─Sequential: 3-35             132,096\n",
      "|    └─BasicBlock: 2-8                   --\n",
      "|    |    └─Conv2d: 3-36                 2,359,296\n",
      "|    |    └─BatchNorm2d: 3-37            1,024\n",
      "|    |    └─Conv2d: 3-38                 2,359,296\n",
      "|    |    └─BatchNorm2d: 3-39            1,024\n",
      "|    |    └─Sequential: 3-40             --\n",
      "├─Linear: 1-7                            12,825\n",
      "=================================================================\n",
      "Total params: 11,189,337\n",
      "Trainable params: 11,189,337\n",
      "Non-trainable params: 0\n",
      "=================================================================\n"
     ]
    },
    {
     "data": {
      "text/plain": [
       "=================================================================\n",
       "Layer (type:depth-idx)                   Param #\n",
       "=================================================================\n",
       "├─Conv2d: 1-1                            9,408\n",
       "├─BatchNorm2d: 1-2                       128\n",
       "├─Sequential: 1-3                        --\n",
       "|    └─BasicBlock: 2-1                   --\n",
       "|    |    └─Conv2d: 3-1                  36,864\n",
       "|    |    └─BatchNorm2d: 3-2             128\n",
       "|    |    └─Conv2d: 3-3                  36,864\n",
       "|    |    └─BatchNorm2d: 3-4             128\n",
       "|    |    └─Sequential: 3-5              --\n",
       "|    └─BasicBlock: 2-2                   --\n",
       "|    |    └─Conv2d: 3-6                  36,864\n",
       "|    |    └─BatchNorm2d: 3-7             128\n",
       "|    |    └─Conv2d: 3-8                  36,864\n",
       "|    |    └─BatchNorm2d: 3-9             128\n",
       "|    |    └─Sequential: 3-10             --\n",
       "├─Sequential: 1-4                        --\n",
       "|    └─BasicBlock: 2-3                   --\n",
       "|    |    └─Conv2d: 3-11                 73,728\n",
       "|    |    └─BatchNorm2d: 3-12            256\n",
       "|    |    └─Conv2d: 3-13                 147,456\n",
       "|    |    └─BatchNorm2d: 3-14            256\n",
       "|    |    └─Sequential: 3-15             8,448\n",
       "|    └─BasicBlock: 2-4                   --\n",
       "|    |    └─Conv2d: 3-16                 147,456\n",
       "|    |    └─BatchNorm2d: 3-17            256\n",
       "|    |    └─Conv2d: 3-18                 147,456\n",
       "|    |    └─BatchNorm2d: 3-19            256\n",
       "|    |    └─Sequential: 3-20             --\n",
       "├─Sequential: 1-5                        --\n",
       "|    └─BasicBlock: 2-5                   --\n",
       "|    |    └─Conv2d: 3-21                 294,912\n",
       "|    |    └─BatchNorm2d: 3-22            512\n",
       "|    |    └─Conv2d: 3-23                 589,824\n",
       "|    |    └─BatchNorm2d: 3-24            512\n",
       "|    |    └─Sequential: 3-25             33,280\n",
       "|    └─BasicBlock: 2-6                   --\n",
       "|    |    └─Conv2d: 3-26                 589,824\n",
       "|    |    └─BatchNorm2d: 3-27            512\n",
       "|    |    └─Conv2d: 3-28                 589,824\n",
       "|    |    └─BatchNorm2d: 3-29            512\n",
       "|    |    └─Sequential: 3-30             --\n",
       "├─Sequential: 1-6                        --\n",
       "|    └─BasicBlock: 2-7                   --\n",
       "|    |    └─Conv2d: 3-31                 1,179,648\n",
       "|    |    └─BatchNorm2d: 3-32            1,024\n",
       "|    |    └─Conv2d: 3-33                 2,359,296\n",
       "|    |    └─BatchNorm2d: 3-34            1,024\n",
       "|    |    └─Sequential: 3-35             132,096\n",
       "|    └─BasicBlock: 2-8                   --\n",
       "|    |    └─Conv2d: 3-36                 2,359,296\n",
       "|    |    └─BatchNorm2d: 3-37            1,024\n",
       "|    |    └─Conv2d: 3-38                 2,359,296\n",
       "|    |    └─BatchNorm2d: 3-39            1,024\n",
       "|    |    └─Sequential: 3-40             --\n",
       "├─Linear: 1-7                            12,825\n",
       "=================================================================\n",
       "Total params: 11,189,337\n",
       "Trainable params: 11,189,337\n",
       "Non-trainable params: 0\n",
       "================================================================="
      ]
     },
     "execution_count": 10,
     "metadata": {},
     "output_type": "execute_result"
    }
   ],
   "source": [
    "model = to_device(CustomModel(BasicBlock, [2, 2, 2, 2], num_classes=25),device)\n",
    "summary(model)"
   ]
  },
  {
   "cell_type": "code",
   "execution_count": 11,
   "id": "8d8337f2",
   "metadata": {
    "execution": {
     "iopub.execute_input": "2024-08-07T16:34:56.552075Z",
     "iopub.status.busy": "2024-08-07T16:34:56.551613Z",
     "iopub.status.idle": "2024-08-07T16:34:56.561231Z",
     "shell.execute_reply": "2024-08-07T16:34:56.560521Z"
    },
    "papermill": {
     "duration": 0.019705,
     "end_time": "2024-08-07T16:34:56.563063",
     "exception": false,
     "start_time": "2024-08-07T16:34:56.543358",
     "status": "completed"
    },
    "tags": []
   },
   "outputs": [],
   "source": [
    "@torch.no_grad()\n",
    "def evaluate(model, val_loader):\n",
    "    model.eval()\n",
    "    outputs = [model.validation_step(batch) for batch in val_loader]\n",
    "    return model.validation_epoch_end(outputs)\n",
    "\n",
    "\n",
    "def modeltrain(epochs, lr, model, train_loader, val_loader, \n",
    "                  weight_decay=0,grad_clip=None, opt_func=torch.optim.Adam):\n",
    "    history = []\n",
    "    optimizer = opt_func(model.parameters(), lr, weight_decay=weight_decay)\n",
    "    torch.cuda.empty_cache()\n",
    "    \n",
    "    for epoch in range(epochs):\n",
    "        # Training Phase \n",
    "        model.train()\n",
    "        train_losses = []\n",
    "        train_accs = []\n",
    "\n",
    "        for batch in tqdm(train_loader):\n",
    "            batch = to_device(batch,device)\n",
    "            loss,acc = model.training_step(batch)\n",
    "            train_losses.append(loss)\n",
    "            train_accs.append(acc)\n",
    "            loss.backward()\n",
    "            \n",
    "            \n",
    "            if grad_clip: \n",
    "                nn.utils.clip_grad_value_(model.parameters(), grad_clip)\n",
    "            \n",
    "            optimizer.step()\n",
    "            optimizer.zero_grad()\n",
    "            \n",
    "        # Validation phase\n",
    "        result = evaluate(model, val_loader)\n",
    "        result['train_loss'] = torch.stack(train_losses).mean().item()\n",
    "        result['train_acc'] = torch.stack(train_accs).mean().item()\n",
    "\n",
    "        model.epoch_end(epoch, result)\n",
    "        history.append(result)\n",
    "    return history"
   ]
  },
  {
   "cell_type": "code",
   "execution_count": 12,
   "id": "c54fc816",
   "metadata": {
    "execution": {
     "iopub.execute_input": "2024-08-07T16:34:56.577368Z",
     "iopub.status.busy": "2024-08-07T16:34:56.576734Z",
     "iopub.status.idle": "2024-08-07T16:35:20.210317Z",
     "shell.execute_reply": "2024-08-07T16:35:20.209248Z"
    },
    "papermill": {
     "duration": 23.642996,
     "end_time": "2024-08-07T16:35:20.212502",
     "exception": false,
     "start_time": "2024-08-07T16:34:56.569506",
     "status": "completed"
    },
    "tags": []
   },
   "outputs": [
    {
     "data": {
      "text/plain": [
       "[{'val_loss': 3.2199831008911133, 'val_acc': 0.033510636538267136}]"
      ]
     },
     "execution_count": 12,
     "metadata": {},
     "output_type": "execute_result"
    }
   ],
   "source": [
    "history = [evaluate(model, valid_dl)]\n",
    "history"
   ]
  },
  {
   "cell_type": "code",
   "execution_count": 13,
   "id": "c1f9d7e3",
   "metadata": {
    "execution": {
     "iopub.execute_input": "2024-08-07T16:35:20.227735Z",
     "iopub.status.busy": "2024-08-07T16:35:20.227400Z",
     "iopub.status.idle": "2024-08-07T16:35:20.232119Z",
     "shell.execute_reply": "2024-08-07T16:35:20.231366Z"
    },
    "papermill": {
     "duration": 0.014482,
     "end_time": "2024-08-07T16:35:20.234041",
     "exception": false,
     "start_time": "2024-08-07T16:35:20.219559",
     "status": "completed"
    },
    "tags": []
   },
   "outputs": [],
   "source": [
    "epochs = 50\n",
    "lr = 1e-3\n",
    "weight_decay = 1e-4\n",
    "grad_clip = 0.1\n",
    "opt_func = torch.optim.Adam"
   ]
  },
  {
   "cell_type": "code",
   "execution_count": 14,
   "id": "17bbe632",
   "metadata": {
    "execution": {
     "iopub.execute_input": "2024-08-07T16:35:20.248239Z",
     "iopub.status.busy": "2024-08-07T16:35:20.247957Z",
     "iopub.status.idle": "2024-08-07T18:37:26.466615Z",
     "shell.execute_reply": "2024-08-07T18:37:26.465441Z"
    },
    "papermill": {
     "duration": 7329.161124,
     "end_time": "2024-08-07T18:37:29.401721",
     "exception": false,
     "start_time": "2024-08-07T16:35:20.240597",
     "status": "completed"
    },
    "tags": []
   },
   "outputs": [
    {
     "name": "stderr",
     "output_type": "stream",
     "text": [
      "100%|██████████| 704/704 [02:06<00:00,  5.57it/s]\n"
     ]
    },
    {
     "name": "stdout",
     "output_type": "stream",
     "text": [
      "Epoch [0], train_loss: 2.4681,train_acc: 0.2211, val_loss: 2.3812, val_acc: 0.2571\n"
     ]
    },
    {
     "name": "stderr",
     "output_type": "stream",
     "text": [
      "100%|██████████| 704/704 [02:05<00:00,  5.62it/s]\n"
     ]
    },
    {
     "name": "stdout",
     "output_type": "stream",
     "text": [
      "Epoch [1], train_loss: 1.9598,train_acc: 0.3636, val_loss: 1.9526, val_acc: 0.3789\n"
     ]
    },
    {
     "name": "stderr",
     "output_type": "stream",
     "text": [
      "100%|██████████| 704/704 [02:05<00:00,  5.63it/s]\n"
     ]
    },
    {
     "name": "stdout",
     "output_type": "stream",
     "text": [
      "Epoch [2], train_loss: 1.6709,train_acc: 0.4594, val_loss: 1.7339, val_acc: 0.4479\n"
     ]
    },
    {
     "name": "stderr",
     "output_type": "stream",
     "text": [
      "100%|██████████| 704/704 [02:04<00:00,  5.63it/s]\n"
     ]
    },
    {
     "name": "stdout",
     "output_type": "stream",
     "text": [
      "Epoch [3], train_loss: 1.3861,train_acc: 0.5598, val_loss: 1.5695, val_acc: 0.5074\n"
     ]
    },
    {
     "name": "stderr",
     "output_type": "stream",
     "text": [
      "100%|██████████| 704/704 [02:05<00:00,  5.62it/s]\n"
     ]
    },
    {
     "name": "stdout",
     "output_type": "stream",
     "text": [
      "Epoch [4], train_loss: 1.1050,train_acc: 0.6540, val_loss: 1.1088, val_acc: 0.6579\n"
     ]
    },
    {
     "name": "stderr",
     "output_type": "stream",
     "text": [
      "100%|██████████| 704/704 [02:05<00:00,  5.61it/s]\n"
     ]
    },
    {
     "name": "stdout",
     "output_type": "stream",
     "text": [
      "Epoch [5], train_loss: 0.8905,train_acc: 0.7207, val_loss: 0.8296, val_acc: 0.7458\n"
     ]
    },
    {
     "name": "stderr",
     "output_type": "stream",
     "text": [
      "100%|██████████| 704/704 [02:05<00:00,  5.63it/s]\n"
     ]
    },
    {
     "name": "stdout",
     "output_type": "stream",
     "text": [
      "Epoch [6], train_loss: 0.7298,train_acc: 0.7727, val_loss: 0.8400, val_acc: 0.7408\n"
     ]
    },
    {
     "name": "stderr",
     "output_type": "stream",
     "text": [
      "100%|██████████| 704/704 [02:05<00:00,  5.62it/s]\n"
     ]
    },
    {
     "name": "stdout",
     "output_type": "stream",
     "text": [
      "Epoch [7], train_loss: 0.6211,train_acc: 0.8075, val_loss: 0.7863, val_acc: 0.7608\n"
     ]
    },
    {
     "name": "stderr",
     "output_type": "stream",
     "text": [
      "100%|██████████| 704/704 [02:05<00:00,  5.63it/s]\n"
     ]
    },
    {
     "name": "stdout",
     "output_type": "stream",
     "text": [
      "Epoch [8], train_loss: 0.5395,train_acc: 0.8348, val_loss: 0.9110, val_acc: 0.7046\n"
     ]
    },
    {
     "name": "stderr",
     "output_type": "stream",
     "text": [
      "100%|██████████| 704/704 [02:05<00:00,  5.62it/s]\n"
     ]
    },
    {
     "name": "stdout",
     "output_type": "stream",
     "text": [
      "Epoch [9], train_loss: 0.4889,train_acc: 0.8486, val_loss: 0.5362, val_acc: 0.8348\n"
     ]
    },
    {
     "name": "stderr",
     "output_type": "stream",
     "text": [
      "100%|██████████| 704/704 [02:05<00:00,  5.63it/s]\n"
     ]
    },
    {
     "name": "stdout",
     "output_type": "stream",
     "text": [
      "Epoch [10], train_loss: 0.4027,train_acc: 0.8777, val_loss: 0.6841, val_acc: 0.8112\n"
     ]
    },
    {
     "name": "stderr",
     "output_type": "stream",
     "text": [
      "100%|██████████| 704/704 [02:05<00:00,  5.63it/s]\n"
     ]
    },
    {
     "name": "stdout",
     "output_type": "stream",
     "text": [
      "Epoch [11], train_loss: 0.3556,train_acc: 0.8900, val_loss: 0.7007, val_acc: 0.8013\n"
     ]
    },
    {
     "name": "stderr",
     "output_type": "stream",
     "text": [
      "100%|██████████| 704/704 [02:05<00:00,  5.63it/s]\n"
     ]
    },
    {
     "name": "stdout",
     "output_type": "stream",
     "text": [
      "Epoch [12], train_loss: 0.3296,train_acc: 0.8970, val_loss: 0.5410, val_acc: 0.8389\n"
     ]
    },
    {
     "name": "stderr",
     "output_type": "stream",
     "text": [
      "100%|██████████| 704/704 [02:05<00:00,  5.62it/s]\n"
     ]
    },
    {
     "name": "stdout",
     "output_type": "stream",
     "text": [
      "Epoch [13], train_loss: 0.2788,train_acc: 0.9107, val_loss: 0.4957, val_acc: 0.8518\n"
     ]
    },
    {
     "name": "stderr",
     "output_type": "stream",
     "text": [
      "100%|██████████| 704/704 [02:05<00:00,  5.63it/s]\n"
     ]
    },
    {
     "name": "stdout",
     "output_type": "stream",
     "text": [
      "Epoch [14], train_loss: 0.2609,train_acc: 0.9177, val_loss: 0.5315, val_acc: 0.8398\n"
     ]
    },
    {
     "name": "stderr",
     "output_type": "stream",
     "text": [
      "100%|██████████| 704/704 [02:05<00:00,  5.62it/s]\n"
     ]
    },
    {
     "name": "stdout",
     "output_type": "stream",
     "text": [
      "Epoch [15], train_loss: 0.2489,train_acc: 0.9247, val_loss: 0.7296, val_acc: 0.7979\n"
     ]
    },
    {
     "name": "stderr",
     "output_type": "stream",
     "text": [
      "100%|██████████| 704/704 [02:05<00:00,  5.61it/s]\n"
     ]
    },
    {
     "name": "stdout",
     "output_type": "stream",
     "text": [
      "Epoch [16], train_loss: 0.2156,train_acc: 0.9341, val_loss: 0.6496, val_acc: 0.8231\n"
     ]
    },
    {
     "name": "stderr",
     "output_type": "stream",
     "text": [
      "100%|██████████| 704/704 [02:05<00:00,  5.63it/s]\n"
     ]
    },
    {
     "name": "stdout",
     "output_type": "stream",
     "text": [
      "Epoch [17], train_loss: 0.1865,train_acc: 0.9431, val_loss: 0.4989, val_acc: 0.8513\n"
     ]
    },
    {
     "name": "stderr",
     "output_type": "stream",
     "text": [
      "100%|██████████| 704/704 [02:05<00:00,  5.62it/s]\n"
     ]
    },
    {
     "name": "stdout",
     "output_type": "stream",
     "text": [
      "Epoch [18], train_loss: 0.2075,train_acc: 0.9354, val_loss: 0.4543, val_acc: 0.8614\n"
     ]
    },
    {
     "name": "stderr",
     "output_type": "stream",
     "text": [
      "100%|██████████| 704/704 [02:05<00:00,  5.62it/s]\n"
     ]
    },
    {
     "name": "stdout",
     "output_type": "stream",
     "text": [
      "Epoch [19], train_loss: 0.1705,train_acc: 0.9482, val_loss: 0.4495, val_acc: 0.8703\n"
     ]
    },
    {
     "name": "stderr",
     "output_type": "stream",
     "text": [
      "100%|██████████| 704/704 [02:05<00:00,  5.62it/s]\n"
     ]
    },
    {
     "name": "stdout",
     "output_type": "stream",
     "text": [
      "Epoch [20], train_loss: 0.1559,train_acc: 0.9519, val_loss: 0.4871, val_acc: 0.8581\n"
     ]
    },
    {
     "name": "stderr",
     "output_type": "stream",
     "text": [
      "100%|██████████| 704/704 [02:05<00:00,  5.62it/s]\n"
     ]
    },
    {
     "name": "stdout",
     "output_type": "stream",
     "text": [
      "Epoch [21], train_loss: 0.1460,train_acc: 0.9534, val_loss: 0.4735, val_acc: 0.8650\n"
     ]
    },
    {
     "name": "stderr",
     "output_type": "stream",
     "text": [
      "100%|██████████| 704/704 [02:05<00:00,  5.62it/s]\n"
     ]
    },
    {
     "name": "stdout",
     "output_type": "stream",
     "text": [
      "Epoch [22], train_loss: 0.1453,train_acc: 0.9541, val_loss: 0.6917, val_acc: 0.8289\n"
     ]
    },
    {
     "name": "stderr",
     "output_type": "stream",
     "text": [
      "100%|██████████| 704/704 [02:05<00:00,  5.61it/s]\n"
     ]
    },
    {
     "name": "stdout",
     "output_type": "stream",
     "text": [
      "Epoch [23], train_loss: 0.1419,train_acc: 0.9566, val_loss: 0.6461, val_acc: 0.8290\n"
     ]
    },
    {
     "name": "stderr",
     "output_type": "stream",
     "text": [
      "100%|██████████| 704/704 [02:05<00:00,  5.63it/s]\n"
     ]
    },
    {
     "name": "stdout",
     "output_type": "stream",
     "text": [
      "Epoch [24], train_loss: 0.1368,train_acc: 0.9579, val_loss: 0.6298, val_acc: 0.8288\n"
     ]
    },
    {
     "name": "stderr",
     "output_type": "stream",
     "text": [
      "100%|██████████| 704/704 [02:05<00:00,  5.63it/s]\n"
     ]
    },
    {
     "name": "stdout",
     "output_type": "stream",
     "text": [
      "Epoch [25], train_loss: 0.1315,train_acc: 0.9583, val_loss: 0.4916, val_acc: 0.8614\n"
     ]
    },
    {
     "name": "stderr",
     "output_type": "stream",
     "text": [
      "100%|██████████| 704/704 [02:05<00:00,  5.62it/s]\n"
     ]
    },
    {
     "name": "stdout",
     "output_type": "stream",
     "text": [
      "Epoch [26], train_loss: 0.1249,train_acc: 0.9613, val_loss: 0.4626, val_acc: 0.8693\n"
     ]
    },
    {
     "name": "stderr",
     "output_type": "stream",
     "text": [
      "100%|██████████| 704/704 [02:05<00:00,  5.61it/s]\n"
     ]
    },
    {
     "name": "stdout",
     "output_type": "stream",
     "text": [
      "Epoch [27], train_loss: 0.1078,train_acc: 0.9665, val_loss: 0.6123, val_acc: 0.8395\n"
     ]
    },
    {
     "name": "stderr",
     "output_type": "stream",
     "text": [
      "100%|██████████| 704/704 [02:05<00:00,  5.62it/s]\n"
     ]
    },
    {
     "name": "stdout",
     "output_type": "stream",
     "text": [
      "Epoch [28], train_loss: 0.1137,train_acc: 0.9654, val_loss: 0.6470, val_acc: 0.8482\n"
     ]
    },
    {
     "name": "stderr",
     "output_type": "stream",
     "text": [
      "100%|██████████| 704/704 [02:05<00:00,  5.61it/s]\n"
     ]
    },
    {
     "name": "stdout",
     "output_type": "stream",
     "text": [
      "Epoch [29], train_loss: 0.1050,train_acc: 0.9683, val_loss: 0.4871, val_acc: 0.8694\n"
     ]
    },
    {
     "name": "stderr",
     "output_type": "stream",
     "text": [
      "100%|██████████| 704/704 [02:05<00:00,  5.61it/s]\n"
     ]
    },
    {
     "name": "stdout",
     "output_type": "stream",
     "text": [
      "Epoch [30], train_loss: 0.1021,train_acc: 0.9694, val_loss: 0.4384, val_acc: 0.8801\n"
     ]
    },
    {
     "name": "stderr",
     "output_type": "stream",
     "text": [
      "100%|██████████| 704/704 [02:05<00:00,  5.62it/s]\n"
     ]
    },
    {
     "name": "stdout",
     "output_type": "stream",
     "text": [
      "Epoch [31], train_loss: 0.1039,train_acc: 0.9679, val_loss: 0.7833, val_acc: 0.8080\n"
     ]
    },
    {
     "name": "stderr",
     "output_type": "stream",
     "text": [
      "100%|██████████| 704/704 [02:05<00:00,  5.61it/s]\n"
     ]
    },
    {
     "name": "stdout",
     "output_type": "stream",
     "text": [
      "Epoch [32], train_loss: 0.1271,train_acc: 0.9619, val_loss: 0.5195, val_acc: 0.8676\n"
     ]
    },
    {
     "name": "stderr",
     "output_type": "stream",
     "text": [
      "100%|██████████| 704/704 [02:05<00:00,  5.62it/s]\n"
     ]
    },
    {
     "name": "stdout",
     "output_type": "stream",
     "text": [
      "Epoch [33], train_loss: 0.1024,train_acc: 0.9682, val_loss: 0.4264, val_acc: 0.8801\n"
     ]
    },
    {
     "name": "stderr",
     "output_type": "stream",
     "text": [
      "100%|██████████| 704/704 [02:05<00:00,  5.60it/s]\n"
     ]
    },
    {
     "name": "stdout",
     "output_type": "stream",
     "text": [
      "Epoch [34], train_loss: 0.0864,train_acc: 0.9728, val_loss: 0.4869, val_acc: 0.8710\n"
     ]
    },
    {
     "name": "stderr",
     "output_type": "stream",
     "text": [
      "100%|██████████| 704/704 [02:05<00:00,  5.61it/s]\n"
     ]
    },
    {
     "name": "stdout",
     "output_type": "stream",
     "text": [
      "Epoch [35], train_loss: 0.0981,train_acc: 0.9704, val_loss: 0.5722, val_acc: 0.8459\n"
     ]
    },
    {
     "name": "stderr",
     "output_type": "stream",
     "text": [
      "100%|██████████| 704/704 [02:05<00:00,  5.62it/s]\n"
     ]
    },
    {
     "name": "stdout",
     "output_type": "stream",
     "text": [
      "Epoch [36], train_loss: 0.0981,train_acc: 0.9693, val_loss: 0.6125, val_acc: 0.8591\n"
     ]
    },
    {
     "name": "stderr",
     "output_type": "stream",
     "text": [
      "100%|██████████| 704/704 [02:05<00:00,  5.62it/s]\n"
     ]
    },
    {
     "name": "stdout",
     "output_type": "stream",
     "text": [
      "Epoch [37], train_loss: 0.0995,train_acc: 0.9699, val_loss: 0.5493, val_acc: 0.8543\n"
     ]
    },
    {
     "name": "stderr",
     "output_type": "stream",
     "text": [
      "100%|██████████| 704/704 [02:05<00:00,  5.62it/s]\n"
     ]
    },
    {
     "name": "stdout",
     "output_type": "stream",
     "text": [
      "Epoch [38], train_loss: 0.0850,train_acc: 0.9752, val_loss: 0.4252, val_acc: 0.8893\n"
     ]
    },
    {
     "name": "stderr",
     "output_type": "stream",
     "text": [
      "100%|██████████| 704/704 [02:05<00:00,  5.61it/s]\n"
     ]
    },
    {
     "name": "stdout",
     "output_type": "stream",
     "text": [
      "Epoch [39], train_loss: 0.0933,train_acc: 0.9723, val_loss: 0.5597, val_acc: 0.8469\n"
     ]
    },
    {
     "name": "stderr",
     "output_type": "stream",
     "text": [
      "100%|██████████| 704/704 [02:05<00:00,  5.62it/s]\n"
     ]
    },
    {
     "name": "stdout",
     "output_type": "stream",
     "text": [
      "Epoch [40], train_loss: 0.0876,train_acc: 0.9745, val_loss: 0.4817, val_acc: 0.8650\n"
     ]
    },
    {
     "name": "stderr",
     "output_type": "stream",
     "text": [
      "100%|██████████| 704/704 [02:05<00:00,  5.63it/s]\n"
     ]
    },
    {
     "name": "stdout",
     "output_type": "stream",
     "text": [
      "Epoch [41], train_loss: 0.0986,train_acc: 0.9701, val_loss: 0.5101, val_acc: 0.8649\n"
     ]
    },
    {
     "name": "stderr",
     "output_type": "stream",
     "text": [
      "100%|██████████| 704/704 [02:05<00:00,  5.61it/s]\n"
     ]
    },
    {
     "name": "stdout",
     "output_type": "stream",
     "text": [
      "Epoch [42], train_loss: 0.0962,train_acc: 0.9717, val_loss: 0.4484, val_acc: 0.8787\n"
     ]
    },
    {
     "name": "stderr",
     "output_type": "stream",
     "text": [
      "100%|██████████| 704/704 [02:05<00:00,  5.62it/s]\n"
     ]
    },
    {
     "name": "stdout",
     "output_type": "stream",
     "text": [
      "Epoch [43], train_loss: 0.0853,train_acc: 0.9757, val_loss: 0.7449, val_acc: 0.8069\n"
     ]
    },
    {
     "name": "stderr",
     "output_type": "stream",
     "text": [
      "100%|██████████| 704/704 [02:05<00:00,  5.63it/s]\n"
     ]
    },
    {
     "name": "stdout",
     "output_type": "stream",
     "text": [
      "Epoch [44], train_loss: 0.0997,train_acc: 0.9718, val_loss: 0.4284, val_acc: 0.8860\n"
     ]
    },
    {
     "name": "stderr",
     "output_type": "stream",
     "text": [
      "100%|██████████| 704/704 [02:05<00:00,  5.61it/s]\n"
     ]
    },
    {
     "name": "stdout",
     "output_type": "stream",
     "text": [
      "Epoch [45], train_loss: 0.0716,train_acc: 0.9804, val_loss: 0.4681, val_acc: 0.8703\n"
     ]
    },
    {
     "name": "stderr",
     "output_type": "stream",
     "text": [
      "100%|██████████| 704/704 [02:05<00:00,  5.62it/s]\n"
     ]
    },
    {
     "name": "stdout",
     "output_type": "stream",
     "text": [
      "Epoch [46], train_loss: 0.0922,train_acc: 0.9727, val_loss: 0.4889, val_acc: 0.8659\n"
     ]
    },
    {
     "name": "stderr",
     "output_type": "stream",
     "text": [
      "100%|██████████| 704/704 [02:05<00:00,  5.62it/s]\n"
     ]
    },
    {
     "name": "stdout",
     "output_type": "stream",
     "text": [
      "Epoch [47], train_loss: 0.0929,train_acc: 0.9710, val_loss: 0.4612, val_acc: 0.8825\n"
     ]
    },
    {
     "name": "stderr",
     "output_type": "stream",
     "text": [
      "100%|██████████| 704/704 [02:05<00:00,  5.61it/s]\n"
     ]
    },
    {
     "name": "stdout",
     "output_type": "stream",
     "text": [
      "Epoch [48], train_loss: 0.0866,train_acc: 0.9743, val_loss: 0.5122, val_acc: 0.8652\n"
     ]
    },
    {
     "name": "stderr",
     "output_type": "stream",
     "text": [
      "100%|██████████| 704/704 [02:05<00:00,  5.61it/s]\n"
     ]
    },
    {
     "name": "stdout",
     "output_type": "stream",
     "text": [
      "Epoch [49], train_loss: 0.0767,train_acc: 0.9773, val_loss: 0.4396, val_acc: 0.8808\n",
      "CPU times: user 1h 46min, sys: 14min 23s, total: 2h 23s\n",
      "Wall time: 2h 2min 6s\n"
     ]
    }
   ],
   "source": [
    "%%time\n",
    "history += modeltrain(epochs, lr, model, train_dl, valid_dl,  \n",
    "                            weight_decay=weight_decay, \n",
    "                            grad_clip = grad_clip,\n",
    "                            opt_func=opt_func)"
   ]
  },
  {
   "cell_type": "code",
   "execution_count": 15,
   "id": "a77b1f99",
   "metadata": {
    "execution": {
     "iopub.execute_input": "2024-08-07T18:37:35.143437Z",
     "iopub.status.busy": "2024-08-07T18:37:35.143054Z",
     "iopub.status.idle": "2024-08-07T18:37:35.243644Z",
     "shell.execute_reply": "2024-08-07T18:37:35.242868Z"
    },
    "papermill": {
     "duration": 3.069025,
     "end_time": "2024-08-07T18:37:35.245878",
     "exception": false,
     "start_time": "2024-08-07T18:37:32.176853",
     "status": "completed"
    },
    "tags": []
   },
   "outputs": [],
   "source": [
    "torch.save(model.state_dict(), 'model.pt')"
   ]
  },
  {
   "cell_type": "code",
   "execution_count": 17,
   "id": "64032874",
   "metadata": {
    "execution": {
     "iopub.execute_input": "2024-08-07T18:37:46.656173Z",
     "iopub.status.busy": "2024-08-07T18:37:46.655595Z",
     "iopub.status.idle": "2024-08-07T18:37:46.661616Z",
     "shell.execute_reply": "2024-08-07T18:37:46.660821Z"
    },
    "papermill": {
     "duration": 2.948663,
     "end_time": "2024-08-07T18:37:46.663506",
     "exception": false,
     "start_time": "2024-08-07T18:37:43.714843",
     "status": "completed"
    },
    "tags": []
   },
   "outputs": [],
   "source": [
    "def plot_accuracies(history):\n",
    "    train_accs =[x.get('train_acc') for x in history]\n",
    "    val_accs = [x['val_acc'] for x in history]\n",
    "    plt.plot(train_accs,'-b')\n",
    "    plt.plot(val_accs, '-r')\n",
    "    plt.xlabel('epoch')\n",
    "    plt.ylabel('accuracy')\n",
    "    plt.legend(['Training', 'Validation'])\n",
    "    plt.title('Accuracy vs. No. of epochs')\n",
    "    plt.savefig('accuracy.png');"
   ]
  },
  {
   "cell_type": "code",
   "execution_count": 18,
   "id": "f9758701",
   "metadata": {
    "execution": {
     "iopub.execute_input": "2024-08-07T18:37:52.237234Z",
     "iopub.status.busy": "2024-08-07T18:37:52.236526Z",
     "iopub.status.idle": "2024-08-07T18:37:52.645104Z",
     "shell.execute_reply": "2024-08-07T18:37:52.644149Z"
    },
    "papermill": {
     "duration": 3.163915,
     "end_time": "2024-08-07T18:37:52.647084",
     "exception": false,
     "start_time": "2024-08-07T18:37:49.483169",
     "status": "completed"
    },
    "tags": []
   },
   "outputs": [
    {
     "data": {
      "image/png": "[encoded data removed]",
      "text/plain": [
       "<Figure size 640x480 with 1 Axes>"
      ]
     },
     "metadata": {},
     "output_type": "display_data"
    }
   ],
   "source": [
    "plot_accuracies(history)"
   ]
  },
  {
   "cell_type": "code",
   "execution_count": 19,
   "id": "804114be",
   "metadata": {
    "execution": {
     "iopub.execute_input": "2024-08-07T18:37:58.459524Z",
     "iopub.status.busy": "2024-08-07T18:37:58.458992Z",
     "iopub.status.idle": "2024-08-07T18:37:58.465280Z",
     "shell.execute_reply": "2024-08-07T18:37:58.464438Z"
    },
    "papermill": {
     "duration": 2.873876,
     "end_time": "2024-08-07T18:37:58.467222",
     "exception": false,
     "start_time": "2024-08-07T18:37:55.593346",
     "status": "completed"
    },
    "tags": []
   },
   "outputs": [],
   "source": [
    "def plot_losses(history):\n",
    "    train_losses = [x.get('train_loss') for x in history]\n",
    "    val_losses = [x['val_loss'] for x in history]\n",
    "    plt.plot(train_losses, '-b')\n",
    "    plt.plot(val_losses, '-r')\n",
    "    plt.xlabel('epoch')\n",
    "    plt.ylabel('loss')\n",
    "    plt.legend(['Training', 'Validation'])\n",
    "    plt.title('Loss vs. No. of epochs')\n",
    "    plt.savefig('losses.png');"
   ]
  },
  {
   "cell_type": "code",
   "execution_count": 20,
   "id": "663f0d72",
   "metadata": {
    "execution": {
     "iopub.execute_input": "2024-08-07T18:38:04.245850Z",
     "iopub.status.busy": "2024-08-07T18:38:04.245482Z",
     "iopub.status.idle": "2024-08-07T18:38:04.636067Z",
     "shell.execute_reply": "2024-08-07T18:38:04.635119Z"
    },
    "papermill": {
     "duration": 3.360725,
     "end_time": "2024-08-07T18:38:04.638055",
     "exception": false,
     "start_time": "2024-08-07T18:38:01.277330",
     "status": "completed"
    },
    "tags": []
   },
   "outputs": [
    {
     "data": {
      "image/png": "[encoded data removed]",
      "text/plain": [
       "<Figure size 640x480 with 1 Axes>"
      ]
     },
     "metadata": {},
     "output_type": "display_data"
    }
   ],
   "source": [
    "plot_losses(history)"
   ]
  },
  {
   "cell_type": "code",
   "execution_count": null,
   "id": "934dd8c9",
   "metadata": {
    "papermill": {
     "duration": 2.965487,
     "end_time": "2024-08-07T18:38:10.404148",
     "exception": false,
     "start_time": "2024-08-07T18:38:07.438661",
     "status": "completed"
    },
    "tags": []
   },
   "outputs": [],
   "source": []
  }
 ],
 "metadata": {
  "kaggle": {
   "accelerator": "gpu",
   "dataSources": [
    {
     "datasetId": 5447287,
     "sourceId": 9110333,
     "sourceType": "datasetVersion"
    }
   ],
   "dockerImageVersionId": 30747,
   "isGpuEnabled": true,
   "isInternetEnabled": true,
   "language": "python",
   "sourceType": "notebook"
  },
  "kernelspec": {
   "display_name": "Python 3",
   "language": "python",
   "name": "python3"
  },
  "language_info": {
   "codemirror_mode": {
    "name": "ipython",
    "version": 3
   },
   "file_extension": ".py",
   "mimetype": "text/x-python",
   "name": "python",
   "nbconvert_exporter": "python",
   "pygments_lexer": "ipython3",
   "version": "3.10.13"
  },
  "papermill": {
   "default_parameters": {},
   "duration": 7426.572701,
   "end_time": "2024-08-07T18:38:14.607572",
   "environment_variables": {},
   "exception": null,
   "input_path": "__notebook__.ipynb",
   "output_path": "__notebook__.ipynb",
   "parameters": {},
   "start_time": "2024-08-07T16:34:28.034871",
   "version": "2.5.0"
  }
 },
 "nbformat": 4,
 "nbformat_minor": 5
}
